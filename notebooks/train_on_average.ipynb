{
 "cells": [
  {
   "cell_type": "code",
   "execution_count": 4,
   "metadata": {},
   "outputs": [],
   "source": [
    "import numpy as np\n",
    "from sklearn.model_selection import LeaveOneGroupOut\n",
    "from sklearn.preprocessing import StandardScaler\n",
    "from sklearn.linear_model import LogisticRegression\n",
    "from sklearn.svm import SVC\n",
    "from sklearn.ensemble import RandomForestClassifier, GradientBoostingClassifier\n",
    "from sklearn.neighbors import KNeighborsClassifier\n",
    "from sklearn.neural_network import MLPClassifier\n",
    "from sklearn.pipeline import make_pipeline\n",
    "from sklearn.metrics import accuracy_score, classification_report\n",
    "\n",
    "def train_best_model(X):\n",
    "    \"\"\"\n",
    "    Обучает и выбирает лучшую модель на основе кросс-валидации с учетом групп\n",
    "    Возвращает обученную модель с наивысшей точностью\n",
    "    \n",
    "    Параметры:\n",
    "    X - матрица признаков (n_samples, n_features)\n",
    "    y - вектор меток (n_samples,)\n",
    "    groups - вектор групп для кросс-валидации (n_samples,)\n",
    "    \"\"\"\n",
    "\n",
    "    y = np.array([0]*17 + [1]*17)\n",
    "    groups = np.repeat(np.arange(17), 2)\n",
    "    models = {\n",
    "        'Logistic Regression (L1)': make_pipeline(\n",
    "            StandardScaler(),\n",
    "            LogisticRegression(penalty='l1', solver='saga', max_iter=10000, random_state=42)\n",
    "        ),\n",
    "        'Linear SVM': make_pipeline(\n",
    "            StandardScaler(),\n",
    "            SVC(kernel='linear', random_state=42)\n",
    "        ),\n",
    "        'Random Forest': RandomForestClassifier(n_estimators=100, max_depth=3, random_state=42),\n",
    "        'Gradient Boosting': GradientBoostingClassifier(n_estimators=50, learning_rate=0.1, max_depth=2, random_state=42),\n",
    "        'SVM (RBF)': make_pipeline(\n",
    "            StandardScaler(),\n",
    "            SVC(kernel='rbf', random_state=42)\n",
    "        ),\n",
    "        'MLP': make_pipeline(\n",
    "            StandardScaler(),\n",
    "            MLPClassifier(hidden_layer_sizes=(50,), alpha=0.01, max_iter=1000, random_state=42)\n",
    "        )\n",
    "    }\n",
    "\n",
    "    logo = LeaveOneGroupOut()\n",
    "    best_score = 0\n",
    "    best_model = None\n",
    "    best_model_name = ''\n",
    "\n",
    "    # Перебор моделей и выбор лучшей\n",
    "    for model_name, model in models.items():\n",
    "        scores = []\n",
    "        for train_idx, test_idx in logo.split(X, y, groups):\n",
    "            X_train, X_test = X[train_idx], X[test_idx]\n",
    "            y_train, y_test = y[train_idx], y[test_idx]\n",
    "            \n",
    "            model.fit(X_train, y_train)\n",
    "            y_pred = model.predict(X_test)\n",
    "            scores.append(accuracy_score(y_test, y_pred))\n",
    "        \n",
    "        mean_score = np.mean(scores)\n",
    "        print(f'{model_name} - Средняя точность: {mean_score:.3f}')\n",
    "        \n",
    "        if mean_score > best_score:\n",
    "            best_score = mean_score\n",
    "            best_model = model\n",
    "            best_model_name = model_name\n",
    "\n",
    "    # Финалное обучение лучшей модели на всех данных\n",
    "    print(f'\\nЛучшая модель: {best_model_name} с точностью {best_score:.3f}')\n",
    "    best_model.fit(X, y)\n",
    "    \n",
    "    return models['SVM (RBF)']\n",
    "\n",
    "# Пример использования:\n",
    "# X, y, groups = ... # Ваши данные\n",
    "# best_model = train_best_model(X, y, groups)"
   ]
  },
  {
   "cell_type": "code",
   "execution_count": 5,
   "metadata": {},
   "outputs": [],
   "source": [
    "test_path = '/home/aaanpilov/diploma/project/numpy_matrixes/average_matrix/test/'\n",
    "train_path = '/home/aaanpilov/diploma/project/numpy_matrixes/average_matrix/HC/'"
   ]
  },
  {
   "cell_type": "code",
   "execution_count": 6,
   "metadata": {},
   "outputs": [
    {
     "name": "stdout",
     "output_type": "stream",
     "text": [
      "auc\n",
      "Logistic Regression (L1) - Средняя точность: 0.971\n",
      "Linear SVM - Средняя точность: 0.941\n",
      "Random Forest - Средняя точность: 0.882\n",
      "Gradient Boosting - Средняя точность: 0.912\n",
      "SVM (RBF) - Средняя точность: 0.971\n",
      "MLP - Средняя точность: 0.882\n",
      "\n",
      "Лучшая модель: Logistic Regression (L1) с точностью 0.971\n",
      "              precision    recall  f1-score   support\n",
      "\n",
      "           0       1.00      1.00      1.00        10\n",
      "           1       1.00      1.00      1.00        10\n",
      "\n",
      "    accuracy                           1.00        20\n",
      "   macro avg       1.00      1.00      1.00        20\n",
      "weighted avg       1.00      1.00      1.00        20\n",
      "\n",
      "[0 0 0 0 0 0 0 0 0 0 1 1 1 1 1 1 1 1 1 1]\n"
     ]
    }
   ],
   "source": [
    "options = ['auc', 'max', 'min', 'max_min']\n",
    "\n",
    "for option in options:\n",
    "    print(option)\n",
    "    matrix = np.load(train_path + option + '.npy')\n",
    "    matrix_test = np.load(test_path + option + '.npy')\n",
    "    model = train_best_model(matrix)\n",
    "\n",
    "    n_test = matrix_test.shape[0]    \n",
    "    labels_test = np.array([0] * (n_test//2) + [1] * (n_test//2))\n",
    "    print(classification_report(labels_test, model.predict(matrix_test)))\n",
    "    print(model.predict(matrix_test))\n",
    "    break"
   ]
  },
  {
   "cell_type": "code",
   "execution_count": null,
   "metadata": {},
   "outputs": [],
   "source": [
    "\n"
   ]
  }
 ],
 "metadata": {
  "kernelspec": {
   "display_name": "Python 3",
   "language": "python",
   "name": "python3"
  },
  "language_info": {
   "codemirror_mode": {
    "name": "ipython",
    "version": 3
   },
   "file_extension": ".py",
   "mimetype": "text/x-python",
   "name": "python",
   "nbconvert_exporter": "python",
   "pygments_lexer": "ipython3",
   "version": "3.8.10"
  }
 },
 "nbformat": 4,
 "nbformat_minor": 2
}
